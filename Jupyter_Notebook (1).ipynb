{
 "cells": [
  {
   "cell_type": "markdown",
   "metadata": {},
   "source": [
    "<center>\n",
    "    <img src=\"https://cf-courses-data.s3.us.cloud-object-storage.appdomain.cloud/IBMDeveloperSkillsNetwork-DS0105EN-SkillsNetwork/labs/Module2/images/SN_web_lightmode.png\" width=\"300\" alt=\"cognitiveclass.ai logo\">\n",
    "</center>\n"
   ]
  },
  {
   "cell_type": "markdown",
   "metadata": {},
   "source": [
    "#### Add your code below following the instructions given in the course\n"
   ]
  },
  {
   "cell_type": "markdown",
   "metadata": {},
   "source": [
    "## Assignment Week-3"
   ]
  },
  {
   "cell_type": "markdown",
   "metadata": {},
   "source": [
    "Introduction\n",
    "\n",
    "Aspiring Data Analyst looking to enter into this arena\n"
   ]
  },
  {
   "cell_type": "markdown",
   "metadata": {},
   "source": [
    "**Data Science Languages**\n",
    "* Python\n",
    "* R\n",
    "* Scala\n",
    "* SQL"
   ]
  },
  {
   "cell_type": "markdown",
   "metadata": {},
   "source": [
    "**Data Science libraries**\n",
    "1. scikit-learn\n",
    "2. Tensorflow\n",
    "3. PyTorch"
   ]
  },
  {
   "cell_type": "markdown",
   "metadata": {},
   "source": [
    "**Data Science Tools**\n",
    "\n",
    "\n",
    "| Tools  |  Languages Supported |\n",
    "| ------ | -------------------- |\n",
    "| Apache Spark | Python, R      |\n",
    "| Jupyter | Python, R           |\n",
    "| Tableau |                     |\n",
    "| ggplot2 | R                   |\n",
    "|Matplotlib | Python            |"
   ]
  },
  {
   "cell_type": "markdown",
   "metadata": {},
   "source": [
    ">Few Mathematical Examples"
   ]
  },
  {
   "cell_type": "code",
   "execution_count": 8,
   "metadata": {},
   "outputs": [
    {
     "name": "stdout",
     "output_type": "stream",
     "text": [
      "Multiply 7 and 8\n",
      "56\n",
      "Divide 8 by 2\n",
      "4.0\n"
     ]
    }
   ],
   "source": [
    "print(\"Multiply 7 and 8\")\n",
    "b=7*8\n",
    "print(b)\n",
    "print(\"Divide 8 by 2\")\n",
    "print(8/2)"
   ]
  },
  {
   "cell_type": "code",
   "execution_count": 7,
   "metadata": {},
   "outputs": [
    {
     "name": "stdout",
     "output_type": "stream",
     "text": [
      "Time in minutes\n",
      "130\n",
      "Time in hours\n",
      " 2.1666666666666665\n"
     ]
    }
   ],
   "source": [
    "print(\"Time in minutes\")\n",
    "min=130\n",
    "print(min)\n",
    "hr=min/60\n",
    "\n",
    "print(\"Time in hours\\n\",hr)"
   ]
  },
  {
   "cell_type": "markdown",
   "metadata": {},
   "source": [
    "**Objectives**\n",
    "1. Complete on time\n",
    "2. DIY- Do It Yourself\n",
    "3. Focus while learning\n"
   ]
  },
  {
   "cell_type": "markdown",
   "metadata": {},
   "source": [
    "Give Author's Name:\n",
    "#\n",
    "> Prof. RD Sharma\n"
   ]
  },
  {
   "cell_type": "code",
   "execution_count": null,
   "metadata": {},
   "outputs": [],
   "source": []
  }
 ],
 "metadata": {
  "kernelspec": {
   "display_name": "Python",
   "language": "python",
   "name": "conda-env-python-py"
  },
  "language_info": {
   "codemirror_mode": {
    "name": "ipython",
    "version": 3
   },
   "file_extension": ".py",
   "mimetype": "text/x-python",
   "name": "python",
   "nbconvert_exporter": "python",
   "pygments_lexer": "ipython3",
   "version": "3.7.12"
  }
 },
 "nbformat": 4,
 "nbformat_minor": 4
}
